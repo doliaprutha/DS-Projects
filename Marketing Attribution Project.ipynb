{
 "cells": [
  {
   "cell_type": "markdown",
   "id": "2fee9ef5",
   "metadata": {},
   "source": [
    "## Import Libraries"
   ]
  },
  {
   "cell_type": "code",
   "execution_count": 1,
   "id": "8fc69e53",
   "metadata": {},
   "outputs": [],
   "source": [
    "import pandas as pd\n",
    "import numpy as np\n",
    "from scipy import stats\n",
    "import matplotlib.pyplot as plt\n",
    "import seaborn as sns\n",
    "\n",
    "sns.set(style=\"whitegrid\")"
   ]
  },
  {
   "cell_type": "markdown",
   "id": "a6483e82",
   "metadata": {},
   "source": [
    "## Load Dataset"
   ]
  },
  {
   "cell_type": "code",
   "execution_count": 2,
   "id": "34982367",
   "metadata": {},
   "outputs": [
    {
     "data": {
      "text/html": [
       "<div>\n",
       "<style scoped>\n",
       "    .dataframe tbody tr th:only-of-type {\n",
       "        vertical-align: middle;\n",
       "    }\n",
       "\n",
       "    .dataframe tbody tr th {\n",
       "        vertical-align: top;\n",
       "    }\n",
       "\n",
       "    .dataframe thead th {\n",
       "        text-align: right;\n",
       "    }\n",
       "</style>\n",
       "<table border=\"1\" class=\"dataframe\">\n",
       "  <thead>\n",
       "    <tr style=\"text-align: right;\">\n",
       "      <th></th>\n",
       "      <th>user_id</th>\n",
       "      <th>timestamp</th>\n",
       "      <th>channel</th>\n",
       "      <th>touchpoint_number</th>\n",
       "      <th>converted</th>\n",
       "      <th>revenue</th>\n",
       "    </tr>\n",
       "  </thead>\n",
       "  <tbody>\n",
       "    <tr>\n",
       "      <th>0</th>\n",
       "      <td>1</td>\n",
       "      <td>2024-12-08</td>\n",
       "      <td>Instagram</td>\n",
       "      <td>1</td>\n",
       "      <td>1</td>\n",
       "      <td>0.00</td>\n",
       "    </tr>\n",
       "    <tr>\n",
       "      <th>1</th>\n",
       "      <td>1</td>\n",
       "      <td>2024-12-21</td>\n",
       "      <td>Google</td>\n",
       "      <td>3</td>\n",
       "      <td>1</td>\n",
       "      <td>71.36</td>\n",
       "    </tr>\n",
       "    <tr>\n",
       "      <th>2</th>\n",
       "      <td>1</td>\n",
       "      <td>2024-12-29</td>\n",
       "      <td>Facebook</td>\n",
       "      <td>2</td>\n",
       "      <td>1</td>\n",
       "      <td>0.00</td>\n",
       "    </tr>\n",
       "    <tr>\n",
       "      <th>3</th>\n",
       "      <td>2</td>\n",
       "      <td>2024-12-11</td>\n",
       "      <td>Google</td>\n",
       "      <td>1</td>\n",
       "      <td>1</td>\n",
       "      <td>0.00</td>\n",
       "    </tr>\n",
       "    <tr>\n",
       "      <th>4</th>\n",
       "      <td>2</td>\n",
       "      <td>2024-12-21</td>\n",
       "      <td>Direct</td>\n",
       "      <td>3</td>\n",
       "      <td>1</td>\n",
       "      <td>47.99</td>\n",
       "    </tr>\n",
       "    <tr>\n",
       "      <th>5</th>\n",
       "      <td>2</td>\n",
       "      <td>2024-12-24</td>\n",
       "      <td>Direct</td>\n",
       "      <td>2</td>\n",
       "      <td>1</td>\n",
       "      <td>0.00</td>\n",
       "    </tr>\n",
       "    <tr>\n",
       "      <th>6</th>\n",
       "      <td>3</td>\n",
       "      <td>2024-12-02</td>\n",
       "      <td>Facebook</td>\n",
       "      <td>4</td>\n",
       "      <td>0</td>\n",
       "      <td>0.00</td>\n",
       "    </tr>\n",
       "    <tr>\n",
       "      <th>7</th>\n",
       "      <td>3</td>\n",
       "      <td>2024-12-03</td>\n",
       "      <td>Referral</td>\n",
       "      <td>1</td>\n",
       "      <td>0</td>\n",
       "      <td>0.00</td>\n",
       "    </tr>\n",
       "    <tr>\n",
       "      <th>8</th>\n",
       "      <td>3</td>\n",
       "      <td>2024-12-21</td>\n",
       "      <td>Email</td>\n",
       "      <td>3</td>\n",
       "      <td>0</td>\n",
       "      <td>0.00</td>\n",
       "    </tr>\n",
       "    <tr>\n",
       "      <th>9</th>\n",
       "      <td>3</td>\n",
       "      <td>2024-12-22</td>\n",
       "      <td>Facebook</td>\n",
       "      <td>2</td>\n",
       "      <td>0</td>\n",
       "      <td>0.00</td>\n",
       "    </tr>\n",
       "  </tbody>\n",
       "</table>\n",
       "</div>"
      ],
      "text/plain": [
       "   user_id  timestamp    channel  touchpoint_number  converted  revenue\n",
       "0        1 2024-12-08  Instagram                  1          1     0.00\n",
       "1        1 2024-12-21     Google                  3          1    71.36\n",
       "2        1 2024-12-29   Facebook                  2          1     0.00\n",
       "3        2 2024-12-11     Google                  1          1     0.00\n",
       "4        2 2024-12-21     Direct                  3          1    47.99\n",
       "5        2 2024-12-24     Direct                  2          1     0.00\n",
       "6        3 2024-12-02   Facebook                  4          0     0.00\n",
       "7        3 2024-12-03   Referral                  1          0     0.00\n",
       "8        3 2024-12-21      Email                  3          0     0.00\n",
       "9        3 2024-12-22   Facebook                  2          0     0.00"
      ]
     },
     "execution_count": 2,
     "metadata": {},
     "output_type": "execute_result"
    }
   ],
   "source": [
    "df = pd.read_csv('Marketing_Attribution_Dataset.csv')\n",
    "df['timestamp'] = pd.to_datetime(df['timestamp'])\n",
    "df.head(10)"
   ]
  },
  {
   "cell_type": "markdown",
   "id": "614a21e0",
   "metadata": {},
   "source": [
    "## Explore Dataset"
   ]
  },
  {
   "cell_type": "code",
   "execution_count": 3,
   "id": "1403a2c4",
   "metadata": {},
   "outputs": [
    {
     "name": "stdout",
     "output_type": "stream",
     "text": [
      "<class 'pandas.core.frame.DataFrame'>\n",
      "RangeIndex: 1199 entries, 0 to 1198\n",
      "Data columns (total 6 columns):\n",
      " #   Column             Non-Null Count  Dtype         \n",
      "---  ------             --------------  -----         \n",
      " 0   user_id            1199 non-null   int64         \n",
      " 1   timestamp          1199 non-null   datetime64[ns]\n",
      " 2   channel            1199 non-null   object        \n",
      " 3   touchpoint_number  1199 non-null   int64         \n",
      " 4   converted          1199 non-null   int64         \n",
      " 5   revenue            1199 non-null   float64       \n",
      "dtypes: datetime64[ns](1), float64(1), int64(3), object(1)\n",
      "memory usage: 56.3+ KB\n"
     ]
    }
   ],
   "source": [
    "df.info()"
   ]
  },
  {
   "cell_type": "code",
   "execution_count": 4,
   "id": "bc852ccb",
   "metadata": {},
   "outputs": [
    {
     "data": {
      "text/plain": [
       "(1199, 6)"
      ]
     },
     "execution_count": 4,
     "metadata": {},
     "output_type": "execute_result"
    }
   ],
   "source": [
    "df.shape"
   ]
  },
  {
   "cell_type": "code",
   "execution_count": 5,
   "id": "0d8fa0c2",
   "metadata": {},
   "outputs": [
    {
     "name": "stdout",
     "output_type": "stream",
     "text": [
      "Unique Users 500\n",
      "Unique Channels 6\n",
      "Total Conversions: 892\n",
      "Total Revenue: 57794.02\n"
     ]
    }
   ],
   "source": [
    "print(\"Unique Users\", df['user_id'].nunique())\n",
    "print(\"Unique Channels\", df['channel'].nunique())\n",
    "print(\"Total Conversions:\", df['converted'].sum())\n",
    "print(\"Total Revenue:\", df['revenue'].sum().round(2))"
   ]
  },
  {
   "cell_type": "code",
   "execution_count": 6,
   "id": "7e9eeda7",
   "metadata": {},
   "outputs": [
    {
     "data": {
      "image/png": "[encoded data removed]",
      "text/plain": [
       "<Figure size 432x288 with 1 Axes>"
      ]
     },
     "metadata": {},
     "output_type": "display_data"
    }
   ],
   "source": [
    "df['channel'].value_counts().plot(kind = 'bar', title = 'Touchpoints by Channel')\n",
    "plt.xlabel('Channel')\n",
    "plt.ylabel('Count')\n",
    "plt.show()"
   ]
  },
  {
   "cell_type": "markdown",
   "id": "033d3ae9",
   "metadata": {},
   "source": [
    "## First-Touch Attribution\n",
    "\n",
    "First-Touch Attribution is a model that assigns 100% of the credit for a conversion or sale to the first marketing channel a user interacted with. It is commonly used to evaluate channels responsible for top-of-funnel awareness.\n",
    "\n",
    "**Pros:**\n",
    "\n",
    "* Great for measuring brand discovery effectiveness.\n",
    "\n",
    "* Simple and easy to implement.\n",
    "\n",
    "**Cons:**\n",
    "\n",
    "* Ignores the impact of later touchpoints.\n",
    "\n",
    "* May undervalue nurturing and closing channels."
   ]
  },
  {
   "cell_type": "code",
   "execution_count": 7,
   "id": "29d627a9",
   "metadata": {},
   "outputs": [],
   "source": [
    "first_touch = df.sort_values(['user_id', 'timestamp']).drop_duplicates('user_id', keep = 'first')\n",
    "first_touch = first_touch[first_touch['converted'] == 1]"
   ]
  },
  {
   "cell_type": "code",
   "execution_count": 8,
   "id": "701dab09",
   "metadata": {},
   "outputs": [
    {
     "data": {
      "text/html": [
       "<div>\n",
       "<style scoped>\n",
       "    .dataframe tbody tr th:only-of-type {\n",
       "        vertical-align: middle;\n",
       "    }\n",
       "\n",
       "    .dataframe tbody tr th {\n",
       "        vertical-align: top;\n",
       "    }\n",
       "\n",
       "    .dataframe thead th {\n",
       "        text-align: right;\n",
       "    }\n",
       "</style>\n",
       "<table border=\"1\" class=\"dataframe\">\n",
       "  <thead>\n",
       "    <tr style=\"text-align: right;\">\n",
       "      <th></th>\n",
       "      <th>channel</th>\n",
       "      <th>revenue</th>\n",
       "    </tr>\n",
       "  </thead>\n",
       "  <tbody>\n",
       "    <tr>\n",
       "      <th>0</th>\n",
       "      <td>Direct</td>\n",
       "      <td>5550.39</td>\n",
       "    </tr>\n",
       "    <tr>\n",
       "      <th>1</th>\n",
       "      <td>Email</td>\n",
       "      <td>5046.82</td>\n",
       "    </tr>\n",
       "    <tr>\n",
       "      <th>2</th>\n",
       "      <td>Facebook</td>\n",
       "      <td>5038.59</td>\n",
       "    </tr>\n",
       "    <tr>\n",
       "      <th>3</th>\n",
       "      <td>Google</td>\n",
       "      <td>5561.42</td>\n",
       "    </tr>\n",
       "    <tr>\n",
       "      <th>4</th>\n",
       "      <td>Instagram</td>\n",
       "      <td>4781.47</td>\n",
       "    </tr>\n",
       "    <tr>\n",
       "      <th>5</th>\n",
       "      <td>Referral</td>\n",
       "      <td>4078.12</td>\n",
       "    </tr>\n",
       "  </tbody>\n",
       "</table>\n",
       "</div>"
      ],
      "text/plain": [
       "     channel  revenue\n",
       "0     Direct  5550.39\n",
       "1      Email  5046.82\n",
       "2   Facebook  5038.59\n",
       "3     Google  5561.42\n",
       "4  Instagram  4781.47\n",
       "5   Referral  4078.12"
      ]
     },
     "execution_count": 8,
     "metadata": {},
     "output_type": "execute_result"
    }
   ],
   "source": [
    "first_touch_attribution = first_touch.groupby('channel')['revenue'].sum().reset_index()\n",
    "first_touch_attribution[['channel', 'revenue']]\n",
    "first_touch_attribution"
   ]
  },
  {
   "cell_type": "markdown",
   "id": "93c222da",
   "metadata": {},
   "source": [
    "## Last-Touch Attribution\n",
    "\n",
    "Last-Touch Attribution assigns 100% of the credit for a conversion to the final marketing channel a user interacted with before converting.  It is often used to identify closing or bottom-of-funnel channels.\n",
    "\n",
    "**Pros:**\n",
    "\n",
    "* Useful for identifying channels that close deals.\n",
    "\n",
    "* Simple to track and attribute.\n",
    "\n",
    "**Cons:**\n",
    "\n",
    "* Ignores earlier touchpoints that may have significantly influenced the customer.\n",
    "\n",
    "* May overvalue retargeting or direct channels."
   ]
  },
  {
   "cell_type": "code",
   "execution_count": 9,
   "id": "733d2c27",
   "metadata": {},
   "outputs": [],
   "source": [
    "last_touch = df.sort_values(['user_id', 'timestamp']).drop_duplicates('user_id', keep = 'last')\n",
    "last_touch = last_touch[last_touch['converted'] == 1]"
   ]
  },
  {
   "cell_type": "code",
   "execution_count": 10,
   "id": "32174e66",
   "metadata": {},
   "outputs": [
    {
     "data": {
      "text/html": [
       "<div>\n",
       "<style scoped>\n",
       "    .dataframe tbody tr th:only-of-type {\n",
       "        vertical-align: middle;\n",
       "    }\n",
       "\n",
       "    .dataframe tbody tr th {\n",
       "        vertical-align: top;\n",
       "    }\n",
       "\n",
       "    .dataframe thead th {\n",
       "        text-align: right;\n",
       "    }\n",
       "</style>\n",
       "<table border=\"1\" class=\"dataframe\">\n",
       "  <thead>\n",
       "    <tr style=\"text-align: right;\">\n",
       "      <th></th>\n",
       "      <th>channel</th>\n",
       "      <th>revenue</th>\n",
       "    </tr>\n",
       "  </thead>\n",
       "  <tbody>\n",
       "    <tr>\n",
       "      <th>0</th>\n",
       "      <td>Direct</td>\n",
       "      <td>3930.72</td>\n",
       "    </tr>\n",
       "    <tr>\n",
       "      <th>1</th>\n",
       "      <td>Email</td>\n",
       "      <td>5270.05</td>\n",
       "    </tr>\n",
       "    <tr>\n",
       "      <th>2</th>\n",
       "      <td>Facebook</td>\n",
       "      <td>5373.90</td>\n",
       "    </tr>\n",
       "    <tr>\n",
       "      <th>3</th>\n",
       "      <td>Google</td>\n",
       "      <td>5156.02</td>\n",
       "    </tr>\n",
       "    <tr>\n",
       "      <th>4</th>\n",
       "      <td>Instagram</td>\n",
       "      <td>7064.96</td>\n",
       "    </tr>\n",
       "    <tr>\n",
       "      <th>5</th>\n",
       "      <td>Referral</td>\n",
       "      <td>4426.80</td>\n",
       "    </tr>\n",
       "  </tbody>\n",
       "</table>\n",
       "</div>"
      ],
      "text/plain": [
       "     channel  revenue\n",
       "0     Direct  3930.72\n",
       "1      Email  5270.05\n",
       "2   Facebook  5373.90\n",
       "3     Google  5156.02\n",
       "4  Instagram  7064.96\n",
       "5   Referral  4426.80"
      ]
     },
     "execution_count": 10,
     "metadata": {},
     "output_type": "execute_result"
    }
   ],
   "source": [
    "last_touch_attribution = last_touch.groupby('channel')['revenue'].sum().reset_index()\n",
    "last_touch_attribution[['channel', 'revenue']]\n",
    "last_touch_attribution"
   ]
  },
  {
   "cell_type": "markdown",
   "id": "9cdd99ef",
   "metadata": {},
   "source": [
    "# Linear Attribution\n",
    "\n",
    "Linear Attribution distributes the conversion credit equally across all touchpoints in a user’s journey.\n",
    "\n",
    "This model assumes that every interaction contributes equally to the final conversion and is useful for analyzing the full-funnel impact of marketing channels.\n",
    "\n",
    "**Pros:**\n",
    "\n",
    "* Provides a balanced view of all channel contributions.\n",
    "\n",
    "* Highlights the importance of nurturing across the funnel.\n",
    "\n",
    "**Cons:**\n",
    "\n",
    "* Oversimplifies the influence of each step.\n",
    "\n",
    "* Doesn’t account for the relative weight or timing of touchpoints."
   ]
  },
  {
   "cell_type": "code",
   "execution_count": 11,
   "id": "d9612660",
   "metadata": {},
   "outputs": [
    {
     "data": {
      "text/html": [
       "<div>\n",
       "<style scoped>\n",
       "    .dataframe tbody tr th:only-of-type {\n",
       "        vertical-align: middle;\n",
       "    }\n",
       "\n",
       "    .dataframe tbody tr th {\n",
       "        vertical-align: top;\n",
       "    }\n",
       "\n",
       "    .dataframe thead th {\n",
       "        text-align: right;\n",
       "    }\n",
       "</style>\n",
       "<table border=\"1\" class=\"dataframe\">\n",
       "  <thead>\n",
       "    <tr style=\"text-align: right;\">\n",
       "      <th></th>\n",
       "      <th>channel</th>\n",
       "      <th>linear_touch_revenue</th>\n",
       "    </tr>\n",
       "  </thead>\n",
       "  <tbody>\n",
       "    <tr>\n",
       "      <th>0</th>\n",
       "      <td>Direct</td>\n",
       "      <td>4763.214167</td>\n",
       "    </tr>\n",
       "    <tr>\n",
       "      <th>1</th>\n",
       "      <td>Email</td>\n",
       "      <td>5135.400833</td>\n",
       "    </tr>\n",
       "    <tr>\n",
       "      <th>2</th>\n",
       "      <td>Facebook</td>\n",
       "      <td>5338.445000</td>\n",
       "    </tr>\n",
       "    <tr>\n",
       "      <th>3</th>\n",
       "      <td>Google</td>\n",
       "      <td>5058.177500</td>\n",
       "    </tr>\n",
       "    <tr>\n",
       "      <th>4</th>\n",
       "      <td>Instagram</td>\n",
       "      <td>6569.474167</td>\n",
       "    </tr>\n",
       "    <tr>\n",
       "      <th>5</th>\n",
       "      <td>Referral</td>\n",
       "      <td>4469.750833</td>\n",
       "    </tr>\n",
       "  </tbody>\n",
       "</table>\n",
       "</div>"
      ],
      "text/plain": [
       "     channel  linear_touch_revenue\n",
       "0     Direct           4763.214167\n",
       "1      Email           5135.400833\n",
       "2   Facebook           5338.445000\n",
       "3     Google           5058.177500\n",
       "4  Instagram           6569.474167\n",
       "5   Referral           4469.750833"
      ]
     },
     "execution_count": 11,
     "metadata": {},
     "output_type": "execute_result"
    }
   ],
   "source": [
    "# Step 1: Filter only converted users\n",
    "converted_df = df[df['converted'] == 1].copy()\n",
    "\n",
    "# Step 2: For each converted user, assign total revenue to all touchpoints equally\n",
    "converted_df['touch_count'] = converted_df.groupby('user_id')['channel'].transform('count')\n",
    "converted_df['revenue_share'] = converted_df['revenue'] / converted_df['touch_count']\n",
    "\n",
    "# Step 3: Group by channel to calculate total revenue per channel\n",
    "linear_attribution = converted_df.groupby('channel')['revenue_share'].sum().reset_index()\n",
    "linear_attribution.columns = ['channel', 'linear_touch_revenue']\n",
    "\n",
    "linear_attribution"
   ]
  },
  {
   "cell_type": "markdown",
   "id": "c6b5029b",
   "metadata": {},
   "source": [
    "# Visualization"
   ]
  },
  {
   "cell_type": "code",
   "execution_count": 12,
   "id": "46929aeb",
   "metadata": {},
   "outputs": [
    {
     "data": {
      "text/html": [
       "<div>\n",
       "<style scoped>\n",
       "    .dataframe tbody tr th:only-of-type {\n",
       "        vertical-align: middle;\n",
       "    }\n",
       "\n",
       "    .dataframe tbody tr th {\n",
       "        vertical-align: top;\n",
       "    }\n",
       "\n",
       "    .dataframe thead th {\n",
       "        text-align: right;\n",
       "    }\n",
       "</style>\n",
       "<table border=\"1\" class=\"dataframe\">\n",
       "  <thead>\n",
       "    <tr style=\"text-align: right;\">\n",
       "      <th></th>\n",
       "      <th>channel</th>\n",
       "      <th>first_touch_revenue</th>\n",
       "      <th>last_touch_revenue</th>\n",
       "      <th>linear_touch_revenue</th>\n",
       "    </tr>\n",
       "  </thead>\n",
       "  <tbody>\n",
       "    <tr>\n",
       "      <th>0</th>\n",
       "      <td>Direct</td>\n",
       "      <td>5550.39</td>\n",
       "      <td>3930.72</td>\n",
       "      <td>4763.214167</td>\n",
       "    </tr>\n",
       "    <tr>\n",
       "      <th>1</th>\n",
       "      <td>Email</td>\n",
       "      <td>5046.82</td>\n",
       "      <td>5270.05</td>\n",
       "      <td>5135.400833</td>\n",
       "    </tr>\n",
       "    <tr>\n",
       "      <th>2</th>\n",
       "      <td>Facebook</td>\n",
       "      <td>5038.59</td>\n",
       "      <td>5373.90</td>\n",
       "      <td>5338.445000</td>\n",
       "    </tr>\n",
       "    <tr>\n",
       "      <th>3</th>\n",
       "      <td>Google</td>\n",
       "      <td>5561.42</td>\n",
       "      <td>5156.02</td>\n",
       "      <td>5058.177500</td>\n",
       "    </tr>\n",
       "    <tr>\n",
       "      <th>4</th>\n",
       "      <td>Instagram</td>\n",
       "      <td>4781.47</td>\n",
       "      <td>7064.96</td>\n",
       "      <td>6569.474167</td>\n",
       "    </tr>\n",
       "    <tr>\n",
       "      <th>5</th>\n",
       "      <td>Referral</td>\n",
       "      <td>4078.12</td>\n",
       "      <td>4426.80</td>\n",
       "      <td>4469.750833</td>\n",
       "    </tr>\n",
       "  </tbody>\n",
       "</table>\n",
       "</div>"
      ],
      "text/plain": [
       "     channel  first_touch_revenue  last_touch_revenue  linear_touch_revenue\n",
       "0     Direct              5550.39             3930.72           4763.214167\n",
       "1      Email              5046.82             5270.05           5135.400833\n",
       "2   Facebook              5038.59             5373.90           5338.445000\n",
       "3     Google              5561.42             5156.02           5058.177500\n",
       "4  Instagram              4781.47             7064.96           6569.474167\n",
       "5   Referral              4078.12             4426.80           4469.750833"
      ]
     },
     "execution_count": 12,
     "metadata": {},
     "output_type": "execute_result"
    }
   ],
   "source": [
    "# Combine all attributions in a single df for comparision\n",
    "\n",
    "merged = first_touch_attribution.rename(columns={\"first_touch_revenue\": \"revenue\"}) \\\n",
    "    .merge(last_touch_attribution.rename(columns={\"last_touch_revenue\": \"revenue\"}), \n",
    "           on='channel', how='outer', suffixes=('_first', '_last')) \\\n",
    "    .merge(linear_attribution.rename(columns={\"linear_touch_revenue\": \"revenue_share\"}), \n",
    "           on='channel', how='outer')\n",
    "\n",
    "# Rename\n",
    "merged = merged.rename(columns={\n",
    "    \"revenue_first\": \"first_touch_revenue\",\n",
    "    \"revenue_last\": \"last_touch_revenue\",\n",
    "    \"revenue_share\": \"linear_touch_revenue\"\n",
    "})\n",
    "\n",
    "merged"
   ]
  },
  {
   "cell_type": "code",
   "execution_count": 13,
   "id": "45457918",
   "metadata": {},
   "outputs": [
    {
     "data": {
      "image/png": "[encoded data removed]",
      "text/plain": [
       "<Figure size 864x432 with 1 Axes>"
      ]
     },
     "metadata": {},
     "output_type": "display_data"
    }
   ],
   "source": [
    "merged = merged.fillna(0)\n",
    "merged = merged.set_index('channel')\n",
    "\n",
    "merged.plot(kind='bar', figsize=(12, 6))\n",
    "plt.title(\"Revenue Attribution by Model\")\n",
    "plt.ylabel(\"Revenue ($)\")\n",
    "plt.xticks(rotation=45)\n",
    "plt.tight_layout()\n",
    "plt.show()"
   ]
  },
  {
   "cell_type": "code",
   "execution_count": 14,
   "id": "c82b82ea",
   "metadata": {},
   "outputs": [
    {
     "name": "stdout",
     "output_type": "stream",
     "text": [
      "First-Touch Total: 30056.81\n",
      "Last-Touch Total: 31222.449999999993\n",
      "Linear Attribution Total: 31334.4625\n"
     ]
    }
   ],
   "source": [
    "print(\"First-Touch Total:\", first_touch_attribution['revenue'].sum())\n",
    "print(\"Last-Touch Total:\", last_touch_attribution['revenue'].sum())\n",
    "print(\"Linear Attribution Total:\", linear_attribution['linear_touch_revenue'].sum())\n"
   ]
  },
  {
   "cell_type": "markdown",
   "id": "5154a662",
   "metadata": {},
   "source": [
    "# Result Analysis\n",
    "\n",
    "We implemented and compared three common attribution models - ** First-Touch, Last-Touch, and Linear ** — to evaluate how different marketing channels contribute to conversion revenue.\n",
    "\n",
    "While the totals are close, they’re not exactly identical due to minor floating-point precision and rounding during the revenue splitting in the Linear model. However, they still reflect consistent attribution of overall revenue.\n",
    "\n",
    "**Channel-Level Insights**\n",
    "\n",
    "* **Instagram** dominates under **Last-Touch Attribution**, indicating it frequently plays a role in closing conversions. This suggests it's an effective channel for re-engagement or remarketing.\n",
    "\n",
    "* **Direct and Google** perform strongly in **First-Touch Attribution**, meaning they often serve as initial discovery channels. These channels are great for awareness and top-of-funnel acquisition.\n",
    "\n",
    "* **Linear Attribution** distributes credit across **multiple touchpoints**, highlighting channels like Email and Referral, which may not start or end journeys but still play supportive roles.\n",
    "\n",
    "# Conclusion\n",
    "\n",
    "Each attribution model tells a different story. For a well-rounded marketing strategy:\n",
    "\n",
    "* Use First-Touch to assess awareness drivers,\n",
    "\n",
    "* Use Last-Touch to evaluate conversion catalysts,\n",
    "\n",
    "* Use Linear to identify consistently supportive channels.\n",
    "\n",
    "Businesses should avoid relying on a single attribution model and instead adopt a blended or scenario-specific approach to optimize budget allocation and channel strategy."
   ]
  }
 ],
 "metadata": {
  "kernelspec": {
   "display_name": "Python 3",
   "language": "python",
   "name": "python3"
  },
  "language_info": {
   "codemirror_mode": {
    "name": "ipython",
    "version": 3
   },
   "file_extension": ".py",
   "mimetype": "text/x-python",
   "name": "python",
   "nbconvert_exporter": "python",
   "pygments_lexer": "ipython3",
   "version": "3.8.8"
  }
 },
 "nbformat": 4,
 "nbformat_minor": 5
}
